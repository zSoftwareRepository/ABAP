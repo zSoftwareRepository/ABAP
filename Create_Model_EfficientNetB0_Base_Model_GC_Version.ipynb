{
  "nbformat": 4,
  "nbformat_minor": 0,
  "metadata": {
    "kernelspec": {
      "display_name": "Python 3",
      "language": "python",
      "name": "python3"
    },
    "language_info": {
      "codemirror_mode": {
        "name": "ipython",
        "version": 3
      },
      "file_extension": ".py",
      "mimetype": "text/x-python",
      "name": "python",
      "nbconvert_exporter": "python",
      "pygments_lexer": "ipython3",
      "version": "3.8.8"
    },
    "colab": {
      "name": "Create Model EfficientNetB0 - Base Model - GC Version.ipynb",
      "provenance": [],
      "collapsed_sections": [],
      "include_colab_link": true
    },
    "accelerator": "GPU"
  },
  "cells": [
    {
      "cell_type": "markdown",
      "metadata": {
        "id": "view-in-github",
        "colab_type": "text"
      },
      "source": [
        "<a href=\"https://colab.research.google.com/github/zSoftwareRepository/ABAP/blob/master/Create_Model_EfficientNetB0_Base_Model_GC_Version.ipynb\" target=\"_parent\"><img src=\"https://colab.research.google.com/assets/colab-badge.svg\" alt=\"Open In Colab\"/></a>"
      ]
    },
    {
      "cell_type": "code",
      "metadata": {
        "colab": {
          "base_uri": "https://localhost:8080/"
        },
        "id": "h-nbLvzY3dJd",
        "outputId": "12be1592-3e58-46d0-c942-3b9e59f6eca3"
      },
      "source": [
        "gpu_info = !nvidia-smi\n",
        "gpu_info = '\\n'.join(gpu_info)\n",
        "if gpu_info.find('failed') >= 0:\n",
        "  print('Select the Runtime > \"Change runtime type\" menu to enable a GPU accelerator, ')\n",
        "  print('and then re-execute this cell.')\n",
        "else:\n",
        "  print(gpu_info)"
      ],
      "execution_count": null,
      "outputs": [
        {
          "output_type": "stream",
          "text": [
            "Wed Jun 16 22:32:10 2021       \n",
            "+-----------------------------------------------------------------------------+\n",
            "| NVIDIA-SMI 465.27       Driver Version: 460.32.03    CUDA Version: 11.2     |\n",
            "|-------------------------------+----------------------+----------------------+\n",
            "| GPU  Name        Persistence-M| Bus-Id        Disp.A | Volatile Uncorr. ECC |\n",
            "| Fan  Temp  Perf  Pwr:Usage/Cap|         Memory-Usage | GPU-Util  Compute M. |\n",
            "|                               |                      |               MIG M. |\n",
            "|===============================+======================+======================|\n",
            "|   0  Tesla T4            Off  | 00000000:00:04.0 Off |                    0 |\n",
            "| N/A   42C    P8     9W /  70W |      3MiB / 15109MiB |      0%      Default |\n",
            "|                               |                      |                  N/A |\n",
            "+-------------------------------+----------------------+----------------------+\n",
            "                                                                               \n",
            "+-----------------------------------------------------------------------------+\n",
            "| Processes:                                                                  |\n",
            "|  GPU   GI   CI        PID   Type   Process name                  GPU Memory |\n",
            "|        ID   ID                                                   Usage      |\n",
            "|=============================================================================|\n",
            "|  No running processes found                                                 |\n",
            "+-----------------------------------------------------------------------------+\n"
          ],
          "name": "stdout"
        }
      ]
    },
    {
      "cell_type": "markdown",
      "source": [
        "Adding text"
      ],
      "metadata": {
        "id": "9YQfvfswJpuF"
      }
    },
    {
      "cell_type": "code",
      "metadata": {
        "id": "tGHPmLiMJcCn"
      },
      "source": [
        "import warnings\n",
        "warnings.filterwarnings('ignore')\n",
        "\n",
        "import pandas as pd\n",
        "import numpy as np\n",
        "import pickle\n",
        "import os\n",
        "import ast\n",
        "\n",
        "from sklearn.model_selection import train_test_split\n",
        "from sklearn.preprocessing import OneHotEncoder\n",
        "from skimage import exposure\n",
        "from random import randrange"
      ],
      "execution_count": null,
      "outputs": []
    },
    {
      "cell_type": "code",
      "metadata": {
        "id": "fdzOVxNAhsZW",
        "colab": {
          "base_uri": "https://localhost:8080/"
        },
        "outputId": "9754c1ec-28e6-4bd5-f88e-8dd090c197c5"
      },
      "source": [
        "from google.colab import drive\n",
        "drive.mount('/content/drive/')"
      ],
      "execution_count": null,
      "outputs": [
        {
          "output_type": "stream",
          "text": [
            "Drive already mounted at /content/drive/; to attempt to forcibly remount, call drive.mount(\"/content/drive/\", force_remount=True).\n"
          ],
          "name": "stdout"
        }
      ]
    },
    {
      "cell_type": "code",
      "metadata": {
        "id": "TVJi2xRZJcCn"
      },
      "source": [
        "import matplotlib.pyplot as plt\n",
        "%matplotlib inline"
      ],
      "execution_count": null,
      "outputs": []
    },
    {
      "cell_type": "code",
      "metadata": {
        "id": "cqPPfJXdJcCo"
      },
      "source": [
        "#import pydicom\n",
        "#from pydicom.pixel_data_handlers.util import apply_voi_lut\n",
        "#import pylibjpeg"
      ],
      "execution_count": null,
      "outputs": []
    },
    {
      "cell_type": "code",
      "metadata": {
        "colab": {
          "base_uri": "https://localhost:8080/"
        },
        "id": "wPXSLwacJcCo",
        "outputId": "f49b3d95-1e1f-4c9a-f458-1377cade45c8"
      },
      "source": [
        "import tensorflow as tf\n",
        "\n",
        "print(\"Num GPUs Available: \", len(tf.config.experimental.list_physical_devices('GPU')))\n",
        "print(tf.__version__)"
      ],
      "execution_count": null,
      "outputs": [
        {
          "output_type": "stream",
          "text": [
            "Num GPUs Available:  1\n",
            "2.5.0\n"
          ],
          "name": "stdout"
        }
      ]
    },
    {
      "cell_type": "code",
      "metadata": {
        "id": "jhpRXcBIJcCp"
      },
      "source": [
        "from tensorflow.keras.preprocessing.image import array_to_img, img_to_array\n",
        "from PIL import Image, ImageEnhance, ImageFilter"
      ],
      "execution_count": null,
      "outputs": []
    },
    {
      "cell_type": "code",
      "metadata": {
        "colab": {
          "base_uri": "https://localhost:8080/"
        },
        "id": "UY3MLdDNgjFh",
        "outputId": "9ae8bf74-f700-4b09-eb83-673b2c1e3720"
      },
      "source": [
        "!pip install tensorflow-addons"
      ],
      "execution_count": null,
      "outputs": [
        {
          "output_type": "stream",
          "text": [
            "Requirement already satisfied: tensorflow-addons in /usr/local/lib/python3.7/dist-packages (0.13.0)\n",
            "Requirement already satisfied: typeguard>=2.7 in /usr/local/lib/python3.7/dist-packages (from tensorflow-addons) (2.7.1)\n"
          ],
          "name": "stdout"
        }
      ]
    },
    {
      "cell_type": "code",
      "metadata": {
        "id": "ptdxISSzJcCp"
      },
      "source": [
        "from tensorflow.keras.preprocessing.image import ImageDataGenerator,load_img, img_to_array\n",
        "from tensorflow.keras.layers import Layer, Flatten\n",
        "\n",
        "from tensorflow.keras import backend as K\n",
        "from tensorflow.keras import initializers, regularizers, constraints, optimizers, layers\n",
        "\n",
        "import tensorflow_addons as tfa"
      ],
      "execution_count": null,
      "outputs": []
    },
    {
      "cell_type": "code",
      "metadata": {
        "id": "5ChkB4obJcCp"
      },
      "source": [
        "img_size = 300"
      ],
      "execution_count": null,
      "outputs": []
    },
    {
      "cell_type": "code",
      "metadata": {
        "id": "60OMFdtDJcCq"
      },
      "source": [
        "# Make a simple linear VOI LUT from the raw (stored) pixel data\n",
        "def make_lut(storedPixels, windowWidth, windowLevel, p_i):\n",
        "    \n",
        "    # Slope and Intercept set to 1 and 0 for X-ray. Get these from DICOM tags instead if using \n",
        "    # on a modality that requires them (CT, PT etc)\n",
        "    slope = 1.0\n",
        "    intercept = 0.0\n",
        "    minPixel = int(np.amin(storedPixels))\n",
        "    maxPixel = int(np.amax(storedPixels))\n",
        "\n",
        "    # Make an empty array for the LUT the size of the pixel 'width' in the raw pixel data\n",
        "    lut = [0] * (maxPixel + 1)\n",
        "    \n",
        "    # Invert pixels and windowLevel for MONOCHROME1. We invert the specified windowLevel so that \n",
        "    # increasing the level value makes the images brighter regardless of photometric intrepretation\n",
        "    invert = False\n",
        "    if p_i == \"MONOCHROME1\":\n",
        "        invert = True\n",
        "    else:\n",
        "        windowLevel = (maxPixel - minPixel) - windowLevel\n",
        "        \n",
        "    # Loop through the pixels and calculate each LUT value\n",
        "    for storedValue in range(minPixel, maxPixel):\n",
        "        modalityLutValue = storedValue * slope + intercept\n",
        "        voiLutValue = (((modalityLutValue - windowLevel) / windowWidth + 0.5) * 255.0)\n",
        "        clampedValue = min(max(voiLutValue, 0), 255)\n",
        "        if invert:\n",
        "            lut[storedValue] = round(255-clampedValue)\n",
        "        else:\n",
        "            lut[storedValue] = round(clampedValue)\n",
        "        \n",
        "    return lut"
      ],
      "execution_count": null,
      "outputs": []
    },
    {
      "cell_type": "code",
      "metadata": {
        "id": "bTRFev4CJcCq"
      },
      "source": [
        "# Apply the LUT to a pixel array\n",
        "def apply_lut(pixels_in, lut):\n",
        "    pixels_in = pixels_in.flatten()\n",
        "    pixels_out = [0] * len(pixels_in)\n",
        "    for i in range(0, len(pixels_in)):\n",
        "        pixel = pixels_in[i]\n",
        "        pixels_out[i] = int(lut[pixel])\n",
        "    return pixels_out"
      ],
      "execution_count": null,
      "outputs": []
    },
    {
      "cell_type": "code",
      "metadata": {
        "id": "mG2Iu7LXJcCr"
      },
      "source": [
        "def get_filepaths(directory):\n",
        "    \"\"\"\n",
        "    This function will generate the file names in a directory \n",
        "    tree by walking the tree either top-down or bottom-up. For each \n",
        "    directory in the tree rooted at directory top (including top itself), \n",
        "    it yields a 3-tuple (dirpath, dirnames, filenames).\n",
        "    \"\"\"\n",
        "    file_paths = []  # List which will store all of the full filepaths.\n",
        "    file_image = []  # Image filename\n",
        "\n",
        "    # Walk the tree.\n",
        "    for root, directories, files in os.walk(directory):\n",
        "        for filename in files:\n",
        "            # Join the two strings in order to form the full filepath.\n",
        "            \n",
        "            if '.jpg' in filename:\n",
        "                filepath = os.path.join(root, filename)\n",
        "                file_paths.append(filepath)  # Add it to the list.\n",
        "            \n",
        "                file_image.append(filename.split('.')[0])\n",
        "\n",
        "    return file_paths, file_image  # Self-explanatory."
      ],
      "execution_count": null,
      "outputs": []
    },
    {
      "cell_type": "code",
      "metadata": {
        "id": "Ou0CMt9ZJcCr"
      },
      "source": [
        "class DataGeneratorDicom(tf.keras.utils.Sequence):\n",
        "        \n",
        "    def __init__(self, df_X, arr_Y, batch_size=32, num_classes=None,shuffle=False):\n",
        "        self.batch_size = batch_size\n",
        "        self.df_X = df_X\n",
        "        self.arr_Y = arr_Y\n",
        "        self.num_classes = num_classes\n",
        "        self.indices = self.df_X.index.tolist()\n",
        "        self.shuffle = shuffle\n",
        "        self.fix_monochrome = True\n",
        "        self.on_epoch_end()\n",
        "        \n",
        "    def __len__(self):\n",
        "        return int(np.floor(len(self.indices) / self.batch_size))\n",
        "\n",
        "    def __getitem__(self, index):\n",
        "        index = self.index[index * self.batch_size:(index + 1) * self.batch_size]\n",
        "        batch = [self.indices[k] for k in index]\n",
        "        \n",
        "        X, y = self.__get_data(batch)\n",
        "        return X, y\n",
        "    \n",
        "    def n(self):\n",
        "        return len(self.indices)\n",
        "    \n",
        "    def on_epoch_end(self):\n",
        "        self.index = np.arange(len(self.indices))\n",
        "        if self.shuffle == True:\n",
        "            np.random.shuffle(self.index)\n",
        "\n",
        "    def __get_data(self, batch):\n",
        "        X1 = []\n",
        "        y  = []\n",
        "               \n",
        "        for i, id in enumerate(batch):\n",
        "            \n",
        "            # Data\n",
        "            file = self.df_X.iloc[self.indices[id]][0]\n",
        "            \n",
        "            dicom = pydicom.read_file(file)\n",
        "    \n",
        "            resize_factor_rows = round(dicom.Rows * dicom.ImagerPixelSpacing[0])\n",
        "            resize_factor_cols = round(dicom.Columns * dicom.ImagerPixelSpacing[1])\n",
        "    \n",
        "            data = dicom.pixel_array\n",
        "               \n",
        "            # depending on this value, X-ray may look inverted - fix that:\n",
        "            if self.fix_monochrome and dicom.PhotometricInterpretation == \"MONOCHROME1\":\n",
        "                data = np.amax(data) - data\n",
        "       \n",
        "            data = exposure.equalize_hist(data)\n",
        "    \n",
        "            img = array_to_img(data.reshape(data.shape[0], data.shape[1],1))\n",
        "            img = img.resize((resize_factor_cols, resize_factor_rows),resample=Image.ANTIALIAS,reducing_gap=3.0)\n",
        "            img = img.resize((img_size,img_size),resample=Image.ANTIALIAS,reducing_gap=3.0)   \n",
        "            img = img_to_array(img) \n",
        "            #img /= 255.\n",
        "            \n",
        "            X1.append(img)\n",
        "\n",
        "            y.append(self.arr_Y[self.indices[id]])\n",
        "            \n",
        "        return np.array(X1), np.array(y).reshape(self.batch_size,1)"
      ],
      "execution_count": null,
      "outputs": []
    },
    {
      "cell_type": "code",
      "metadata": {
        "id": "X7-aB4g_JcCs"
      },
      "source": [
        "class DataGeneratorlut(tf.keras.utils.Sequence):\n",
        "        \n",
        "    def __init__(self, df_X, arr_Y, batch_size=32, num_classes=None,shuffle=False, mode='train'):\n",
        "        self.batch_size = batch_size\n",
        "        self.df_X = df_X\n",
        "        self.arr_Y = arr_Y\n",
        "        self.num_classes = num_classes\n",
        "        self.indices = self.df_X.index.tolist()\n",
        "        self.shuffle = shuffle\n",
        "        self.fix_monochrome = True\n",
        "        self.on_epoch_end()\n",
        "        \n",
        "    def __len__(self):\n",
        "        return int(np.floor(len(self.indices) / self.batch_size))\n",
        "\n",
        "    def __getitem__(self, index):\n",
        "        index = self.index[index * self.batch_size:(index + 1) * self.batch_size]\n",
        "        batch = [self.indices[k] for k in index]\n",
        "        \n",
        "        X, y = self.__get_data(batch)\n",
        "        return X, y\n",
        "    \n",
        "    def n(self):\n",
        "        return len(self.indices)\n",
        "    \n",
        "    def on_epoch_end(self):\n",
        "        self.index = np.arange(len(self.indices))\n",
        "        if self.shuffle == True:\n",
        "            np.random.shuffle(self.index)\n",
        "\n",
        "    def __get_data(self, batch):\n",
        "        X1 = []\n",
        "        y  = []\n",
        "               \n",
        "        for i, id in enumerate(batch):\n",
        "            \n",
        "            # Data\n",
        "            file = self.df_X.iloc[self.indices[id]][0]\n",
        "            \n",
        "            dicom = pydicom.read_file(file)\n",
        "    \n",
        "            resize_factor_rows = round(dicom.Rows * dicom.ImagerPixelSpacing[0])\n",
        "            resize_factor_cols = round(dicom.Columns * dicom.ImagerPixelSpacing[1])\n",
        "    \n",
        "            data = dicom.pixel_array\n",
        "  \n",
        "            minPixel = np.min(data)\n",
        "            maxPixel = np.max(data)\n",
        "            windowWidth = maxPixel - minPixel\n",
        "            windowLevel = (minPixel + maxPixel) / 2\n",
        "    \n",
        "            lut = make_lut(data, windowWidth, windowLevel, dicom.PhotometricInterpretation)\n",
        "            data = apply_lut(data, lut)\n",
        "            \n",
        "            data = np.array(data)\n",
        "    \n",
        "            img = array_to_img(data.reshape(dicom.pixel_array.shape[0], dicom.pixel_array.shape[1],1))\n",
        "            img = img.resize((resize_factor_cols, resize_factor_rows),resample=Image.ANTIALIAS,reducing_gap=3.0)\n",
        "            img = img.resize((img_size,img_size),resample=Image.ANTIALIAS,reducing_gap=3.0)   \n",
        "            img = img_to_array(img) \n",
        "            #img /= 255.\n",
        "            \n",
        "            X1.append(img)\n",
        "            y.append(self.arr_Y[self.indices[id]])\n",
        "            \n",
        "        return np.array(X1), np.array(y).reshape(self.batch_size,1)"
      ],
      "execution_count": null,
      "outputs": []
    },
    {
      "cell_type": "code",
      "metadata": {
        "id": "PBZxetZiJcCt"
      },
      "source": [
        "class DataGeneratorjpg(tf.keras.utils.Sequence):\n",
        "        \n",
        "    def __init__(self, df_X, arr_Y, batch_size=32, num_classes=None,shuffle=False,mode='train'):\n",
        "        self.batch_size = batch_size\n",
        "        self.df_X = df_X\n",
        "        self.arr_Y = arr_Y\n",
        "        self.num_classes = num_classes\n",
        "        self.indices = self.df_X.index.tolist()\n",
        "        self.shuffle = shuffle\n",
        "        self.fix_monochrome = True\n",
        "        #self.angles = [-10,-5,-2,0,0,0,0,2,5,10]\n",
        "        self.angles = [-10,-5,-3,-1,0,0,0,0,1,3,5,10]\n",
        "        self.mode = mode\n",
        "        self.on_epoch_end()\n",
        "        \n",
        "    def __len__(self):\n",
        "        return int(np.floor(len(self.indices) / self.batch_size))\n",
        "\n",
        "    def __getitem__(self, index):\n",
        "        index = self.index[index * self.batch_size:(index + 1) * self.batch_size]\n",
        "        batch = [self.indices[k] for k in index]\n",
        "        \n",
        "        X, y = self.__get_data(batch)\n",
        "        return X, y\n",
        "    \n",
        "    def n(self):\n",
        "        return len(self.indices)\n",
        "    \n",
        "    def on_epoch_end(self):\n",
        "        self.index = np.arange(len(self.indices))\n",
        "        if self.shuffle == True:\n",
        "            np.random.shuffle(self.index)\n",
        "\n",
        "    def __get_data(self, batch):\n",
        "        X = []\n",
        "        y = []\n",
        "               \n",
        "        for i, id in enumerate(batch):\n",
        "            \n",
        "            # Data\n",
        "            file = self.df_X.iloc[self.indices[id]][0]\n",
        "            img = load_img(file,color_mode=\"grayscale\")\n",
        "            \n",
        "            if self.mode == 'train':\n",
        "                rand_inx = randrange(0,14)\n",
        "                \n",
        "                if rand_inx in [1,12]:\n",
        "                    img = img.transpose(Image.FLIP_LEFT_RIGHT)      \n",
        "                elif rand_inx in [0,13]:\n",
        "                    #if rand_inx == 0:\n",
        "                    img = img.filter(ImageFilter.BLUR)\n",
        "                else:    \n",
        "                    deg = round(self.angles[rand_inx],0)\n",
        "            \n",
        "                    if deg != 0:\n",
        "                        img = img.rotate(deg,expand=False)  \n",
        "            \n",
        "            X.append(np.asarray(img).astype(np.float32))\n",
        "            y.append(self.arr_Y[self.indices[id]])\n",
        "\n",
        "        return np.array(X), np.array(y).reshape(self.batch_size,1)"
      ],
      "execution_count": null,
      "outputs": []
    },
    {
      "cell_type": "code",
      "metadata": {
        "id": "2rw5WQ8eJcCt"
      },
      "source": [
        "train_study_level = pd.read_csv('drive/MyDrive/data/train_study_level.csv')\n",
        "train_image_level = pd.read_csv('drive/MyDrive/data/train_image_level.csv')"
      ],
      "execution_count": null,
      "outputs": []
    },
    {
      "cell_type": "code",
      "metadata": {
        "id": "B9uzU2ixJcCu"
      },
      "source": [
        "train_study_level['StudyInstanceUID'] = train_study_level['id'].apply(lambda x: x.split('_')[0])"
      ],
      "execution_count": null,
      "outputs": []
    },
    {
      "cell_type": "code",
      "metadata": {
        "id": "PFlUDH_nJcCu"
      },
      "source": [
        "train = train_study_level.merge(train_image_level, how='inner', on='StudyInstanceUID')"
      ],
      "execution_count": null,
      "outputs": []
    },
    {
      "cell_type": "code",
      "metadata": {
        "id": "H0OKnNT5JcCu"
      },
      "source": [
        "none_label = \"[{'x':0, 'y':0, 'width':1,'height':1}]\""
      ],
      "execution_count": null,
      "outputs": []
    },
    {
      "cell_type": "code",
      "metadata": {
        "id": "IeiH-8FvJcCu"
      },
      "source": [
        "for index, row in train.iterrows():\n",
        "    if 'none' in row[8]:\n",
        "        train.iloc[index,7] = none_label"
      ],
      "execution_count": null,
      "outputs": []
    },
    {
      "cell_type": "code",
      "metadata": {
        "id": "IFjZ6zayJcCv"
      },
      "source": [
        "train['boxlen'] = train['boxes'].apply(lambda x: len(ast.literal_eval(x)))"
      ],
      "execution_count": null,
      "outputs": []
    },
    {
      "cell_type": "code",
      "metadata": {
        "id": "VRwALAypJcCv"
      },
      "source": [
        "train['target'] = train['label'].apply(lambda x: 0 if (x.split(' ')[0] == 'none') else 1)"
      ],
      "execution_count": null,
      "outputs": []
    },
    {
      "cell_type": "code",
      "metadata": {
        "id": "LJEs_VNhJcCv"
      },
      "source": [
        "train_file_path, train_image_id = get_filepaths('drive/MyDrive/data/train300')"
      ],
      "execution_count": null,
      "outputs": []
    },
    {
      "cell_type": "code",
      "metadata": {
        "id": "KD8VkLdAJcCv"
      },
      "source": [
        "train_image = pd.concat([pd.Series(train_image_id), pd.Series(train_file_path)], ignore_index=True,axis=1)\n",
        "train_image.columns = ['image_id', 'path']"
      ],
      "execution_count": null,
      "outputs": []
    },
    {
      "cell_type": "code",
      "metadata": {
        "id": "CHyaOGFhJcCv"
      },
      "source": [
        "train['image_id'] = train['id_y'].apply(lambda x: x.split('_')[0])"
      ],
      "execution_count": null,
      "outputs": []
    },
    {
      "cell_type": "code",
      "metadata": {
        "id": "6YIke3X1JcCw"
      },
      "source": [
        "train = train.merge(train_image, how='inner', on='image_id')"
      ],
      "execution_count": null,
      "outputs": []
    },
    {
      "cell_type": "code",
      "metadata": {
        "id": "DkESXECFJcCw",
        "colab": {
          "base_uri": "https://localhost:8080/",
          "height": 430
        },
        "outputId": "4caf9844-d25b-4da4-cb04-d992d4864862"
      },
      "source": [
        "train.head()"
      ],
      "execution_count": null,
      "outputs": [
        {
          "output_type": "execute_result",
          "data": {
            "text/html": [
              "<div>\n",
              "<style scoped>\n",
              "    .dataframe tbody tr th:only-of-type {\n",
              "        vertical-align: middle;\n",
              "    }\n",
              "\n",
              "    .dataframe tbody tr th {\n",
              "        vertical-align: top;\n",
              "    }\n",
              "\n",
              "    .dataframe thead th {\n",
              "        text-align: right;\n",
              "    }\n",
              "</style>\n",
              "<table border=\"1\" class=\"dataframe\">\n",
              "  <thead>\n",
              "    <tr style=\"text-align: right;\">\n",
              "      <th></th>\n",
              "      <th>id_x</th>\n",
              "      <th>Negative for Pneumonia</th>\n",
              "      <th>Typical Appearance</th>\n",
              "      <th>Indeterminate Appearance</th>\n",
              "      <th>Atypical Appearance</th>\n",
              "      <th>StudyInstanceUID</th>\n",
              "      <th>id_y</th>\n",
              "      <th>boxes</th>\n",
              "      <th>label</th>\n",
              "      <th>boxlen</th>\n",
              "      <th>target</th>\n",
              "      <th>image_id</th>\n",
              "      <th>path</th>\n",
              "    </tr>\n",
              "  </thead>\n",
              "  <tbody>\n",
              "    <tr>\n",
              "      <th>0</th>\n",
              "      <td>00086460a852_study</td>\n",
              "      <td>0</td>\n",
              "      <td>1</td>\n",
              "      <td>0</td>\n",
              "      <td>0</td>\n",
              "      <td>00086460a852</td>\n",
              "      <td>65761e66de9f_image</td>\n",
              "      <td>[{'x': 720.65215, 'y': 636.51048, 'width': 332...</td>\n",
              "      <td>opacity 1 720.65215 636.51048 1052.84563 1284....</td>\n",
              "      <td>2</td>\n",
              "      <td>1</td>\n",
              "      <td>65761e66de9f</td>\n",
              "      <td>drive/MyDrive/data/train300/00086460a852/9e830...</td>\n",
              "    </tr>\n",
              "    <tr>\n",
              "      <th>1</th>\n",
              "      <td>000c9c05fd14_study</td>\n",
              "      <td>0</td>\n",
              "      <td>0</td>\n",
              "      <td>0</td>\n",
              "      <td>1</td>\n",
              "      <td>000c9c05fd14</td>\n",
              "      <td>51759b5579bc_image</td>\n",
              "      <td>[{'x':0, 'y':0, 'width':1,'height':1}]</td>\n",
              "      <td>none 1 0 0 1 1</td>\n",
              "      <td>1</td>\n",
              "      <td>0</td>\n",
              "      <td>51759b5579bc</td>\n",
              "      <td>drive/MyDrive/data/train300/000c9c05fd14/e5554...</td>\n",
              "    </tr>\n",
              "    <tr>\n",
              "      <th>2</th>\n",
              "      <td>00292f8c37bd_study</td>\n",
              "      <td>1</td>\n",
              "      <td>0</td>\n",
              "      <td>0</td>\n",
              "      <td>0</td>\n",
              "      <td>00292f8c37bd</td>\n",
              "      <td>f6293b1c49e2_image</td>\n",
              "      <td>[{'x':0, 'y':0, 'width':1,'height':1}]</td>\n",
              "      <td>none 1 0 0 1 1</td>\n",
              "      <td>1</td>\n",
              "      <td>0</td>\n",
              "      <td>f6293b1c49e2</td>\n",
              "      <td>drive/MyDrive/data/train300/00292f8c37bd/73120...</td>\n",
              "    </tr>\n",
              "    <tr>\n",
              "      <th>3</th>\n",
              "      <td>005057b3f880_study</td>\n",
              "      <td>1</td>\n",
              "      <td>0</td>\n",
              "      <td>0</td>\n",
              "      <td>0</td>\n",
              "      <td>005057b3f880</td>\n",
              "      <td>3019399c31f4_image</td>\n",
              "      <td>[{'x':0, 'y':0, 'width':1,'height':1}]</td>\n",
              "      <td>none 1 0 0 1 1</td>\n",
              "      <td>1</td>\n",
              "      <td>0</td>\n",
              "      <td>3019399c31f4</td>\n",
              "      <td>drive/MyDrive/data/train300/005057b3f880/e34af...</td>\n",
              "    </tr>\n",
              "    <tr>\n",
              "      <th>4</th>\n",
              "      <td>0051d9b12e72_study</td>\n",
              "      <td>0</td>\n",
              "      <td>0</td>\n",
              "      <td>0</td>\n",
              "      <td>1</td>\n",
              "      <td>0051d9b12e72</td>\n",
              "      <td>bb4b1da810f3_image</td>\n",
              "      <td>[{'x': 812.54698, 'y': 1376.41291, 'width': 62...</td>\n",
              "      <td>opacity 1 812.54698 1376.41291 1435.14793 1806...</td>\n",
              "      <td>2</td>\n",
              "      <td>1</td>\n",
              "      <td>bb4b1da810f3</td>\n",
              "      <td>drive/MyDrive/data/train300/0051d9b12e72/152f6...</td>\n",
              "    </tr>\n",
              "  </tbody>\n",
              "</table>\n",
              "</div>"
            ],
            "text/plain": [
              "                 id_x  ...                                               path\n",
              "0  00086460a852_study  ...  drive/MyDrive/data/train300/00086460a852/9e830...\n",
              "1  000c9c05fd14_study  ...  drive/MyDrive/data/train300/000c9c05fd14/e5554...\n",
              "2  00292f8c37bd_study  ...  drive/MyDrive/data/train300/00292f8c37bd/73120...\n",
              "3  005057b3f880_study  ...  drive/MyDrive/data/train300/005057b3f880/e34af...\n",
              "4  0051d9b12e72_study  ...  drive/MyDrive/data/train300/0051d9b12e72/152f6...\n",
              "\n",
              "[5 rows x 13 columns]"
            ]
          },
          "metadata": {
            "tags": []
          },
          "execution_count": 79
        }
      ]
    },
    {
      "cell_type": "code",
      "metadata": {
        "id": "1UB5oFCWJcCw"
      },
      "source": [
        "X_train, X_test, y_train, y_test = train_test_split(train['path'],train['target'], test_size=0.2, random_state=1)"
      ],
      "execution_count": null,
      "outputs": []
    },
    {
      "cell_type": "code",
      "metadata": {
        "id": "E9t1CfxVJcCw"
      },
      "source": [
        "X_train = X_train.to_frame()\n",
        "X_test  = X_test.to_frame()"
      ],
      "execution_count": null,
      "outputs": []
    },
    {
      "cell_type": "code",
      "metadata": {
        "id": "CBSjTeYDJcCw"
      },
      "source": [
        "X_train = X_train.reset_index(drop=True)\n",
        "X_test  = X_test.reset_index(drop=True)"
      ],
      "execution_count": null,
      "outputs": []
    },
    {
      "cell_type": "code",
      "metadata": {
        "id": "fNNuXGGkJcCx"
      },
      "source": [
        "y_train = y_train.reset_index(drop=True)\n",
        "y_test  = y_test.reset_index(drop=True)"
      ],
      "execution_count": null,
      "outputs": []
    },
    {
      "cell_type": "code",
      "metadata": {
        "id": "Nn0NrWWfJcCx"
      },
      "source": [
        "batch_size = 32"
      ],
      "execution_count": null,
      "outputs": []
    },
    {
      "cell_type": "code",
      "metadata": {
        "id": "nLWWbGTPJcCx"
      },
      "source": [
        "train_generator = DataGeneratorjpg(df_X=X_train, arr_Y=y_train, batch_size=batch_size, shuffle=True, mode='train')\n",
        "test_generator = DataGeneratorjpg(df_X=X_test, arr_Y=y_test, batch_size=64,mode='test')"
      ],
      "execution_count": null,
      "outputs": []
    },
    {
      "cell_type": "code",
      "metadata": {
        "id": "tyA2nFV3D6pz"
      },
      "source": [
        "def createmodel_start():\n",
        "\n",
        "    baseModel = tf.keras.applications.EfficientNetB0(include_top=False, weights=None, input_tensor=None,input_shape=(img_size, img_size, 1))\n",
        "    headModel = baseModel.layers[-1].output\n",
        " \n",
        "    headModel = tf.keras.layers.Dropout(0.3)(headModel)\n",
        "    headModel = tf.keras.layers.MaxPooling2D(pool_size=(10, 10))(headModel)\n",
        "    headModel = tf.keras.layers.Flatten(name=\"flatten\")(headModel) \n",
        "    headModel = tf.keras.layers.Dropout(0.3)(headModel)\n",
        " \n",
        "    headModel = tf.keras.layers.Dense(1000, activation=tf.keras.activations.gelu,kernel_regularizer=tf.keras.regularizers.l2(0.01))(headModel)\n",
        "    headModel = tf.keras.layers.Dropout(0.3,name='dp01')(headModel)\n",
        "    headModel = tf.keras.layers.Dense(500, activation=tf.keras.activations.gelu,kernel_regularizer=tf.keras.regularizers.l2(0.01))(headModel)\n",
        " \n",
        "    output = tf.keras.layers.Dense(1, activation=\"sigmoid\", kernel_regularizer=tf.keras.regularizers.l2(0.01))(headModel)\n",
        " \n",
        "    model = tf.keras.Model(inputs=baseModel.input, outputs=output)\n",
        " \n",
        "    return model"
      ],
      "execution_count": null,
      "outputs": []
    },
    {
      "cell_type": "code",
      "metadata": {
        "id": "UGKOI9uBJcCx"
      },
      "source": [
        "def createmodel():\n",
        "           \n",
        "    baseModel = tf.keras.applications.EfficientNetB0(include_top=False, weights=None, input_tensor=None,input_shape=(img_size, img_size, 1))\n",
        "    headModel = baseModel.layers[-1].output\n",
        "    \n",
        "    headModel = tf.keras.layers.GlobalAveragePooling2D()(headModel)\n",
        "     \n",
        "    output = tf.keras.layers.Dense(1, activation=\"sigmoid\", kernel_regularizer=tf.keras.regularizers.l2(0.01))(headModel)\n",
        "    \n",
        "    model = tf.keras.Model(inputs=baseModel.input, outputs=output)\n",
        "    \n",
        "    return model"
      ],
      "execution_count": null,
      "outputs": []
    },
    {
      "cell_type": "code",
      "metadata": {
        "id": "2DdhALJAJcCx"
      },
      "source": [
        "#model = createmodel_start()"
      ],
      "execution_count": null,
      "outputs": []
    },
    {
      "cell_type": "code",
      "metadata": {
        "id": "wALet6nJJcCy"
      },
      "source": [
        "model = tf.keras.models.load_model('drive/MyDrive/data/tmp/checkpoint_300_0_5663_0_7426.h5')"
      ],
      "execution_count": null,
      "outputs": []
    },
    {
      "cell_type": "code",
      "metadata": {
        "id": "-QsEmfm9JcCy"
      },
      "source": [
        "learning_rate = 0.0001\n",
        "weight_decay = 0.00001\n",
        "\n",
        "optimizer = tfa.optimizers.AdamW(learning_rate=learning_rate, weight_decay=weight_decay)\n",
        "\n",
        "model.compile(optimizer=optimizer,\n",
        "              loss=tf.keras.losses.binary_crossentropy,\n",
        "              metrics=[tf.keras.metrics.BinaryAccuracy()])\n",
        "\n",
        "checkpoint_filepath = \"drive/MyDrive/data/tmp/checkpoint_x.h5\"\n",
        "checkpoint_callback = tf.keras.callbacks.ModelCheckpoint(checkpoint_filepath,monitor=\"val_binary_accuracy\", mode='max', save_best_only=True,save_weights_only=False, verbose=2)\n",
        "\n",
        "early_stopping = tf.keras.callbacks.EarlyStopping(monitor='val_binary_accuracy', mode='max', verbose=0, patience=10, restore_best_weights=True)"
      ],
      "execution_count": null,
      "outputs": []
    },
    {
      "cell_type": "code",
      "metadata": {
        "scrolled": false,
        "id": "foP2pKj7JcCy",
        "colab": {
          "base_uri": "https://localhost:8080/"
        },
        "outputId": "471f3ad4-709c-4e8e-d130-9e8afcb069c5"
      },
      "source": [
        "STEP_SIZE_TRAIN=train_generator.n()//train_generator.batch_size\n",
        "STEP_SIZE_VALID=test_generator.n()//test_generator.batch_size\n",
        "\n",
        "history = model.fit(x=train_generator,\n",
        "                        steps_per_epoch=STEP_SIZE_TRAIN,\n",
        "                        validation_data=test_generator,\n",
        "                        validation_steps=STEP_SIZE_VALID, \n",
        "                        epochs=100,\n",
        "                        callbacks=[checkpoint_callback,early_stopping], \n",
        "                        shuffle=True)"
      ],
      "execution_count": null,
      "outputs": [
        {
          "output_type": "stream",
          "text": [
            "Epoch 1/100\n",
            "158/158 [==============================] - 96s 610ms/step - loss: 0.3999 - binary_accuracy: 0.8301 - val_loss: 0.6007 - val_binary_accuracy: 0.7220\n",
            "\n",
            "Epoch 00001: val_binary_accuracy did not improve from 0.74095\n",
            "Epoch 2/100\n",
            "158/158 [==============================] - 96s 609ms/step - loss: 0.4031 - binary_accuracy: 0.8368 - val_loss: 0.5731 - val_binary_accuracy: 0.7467\n",
            "\n",
            "Epoch 00002: val_binary_accuracy improved from 0.74095 to 0.74671, saving model to drive/MyDrive/data/tmp/checkpoint_x.h5\n",
            "Epoch 3/100\n",
            "158/158 [==============================] - 97s 611ms/step - loss: 0.3907 - binary_accuracy: 0.8400 - val_loss: 0.5773 - val_binary_accuracy: 0.7475\n",
            "\n",
            "Epoch 00003: val_binary_accuracy improved from 0.74671 to 0.74753, saving model to drive/MyDrive/data/tmp/checkpoint_x.h5\n",
            "Epoch 4/100\n",
            "158/158 [==============================] - 97s 612ms/step - loss: 0.3804 - binary_accuracy: 0.8414 - val_loss: 0.5983 - val_binary_accuracy: 0.7179\n",
            "\n",
            "Epoch 00004: val_binary_accuracy did not improve from 0.74753\n",
            "Epoch 5/100\n",
            "158/158 [==============================] - 96s 608ms/step - loss: 0.3638 - binary_accuracy: 0.8538 - val_loss: 0.6887 - val_binary_accuracy: 0.7105\n",
            "\n",
            "Epoch 00005: val_binary_accuracy did not improve from 0.74753\n",
            "Epoch 6/100\n",
            "158/158 [==============================] - 96s 607ms/step - loss: 0.3780 - binary_accuracy: 0.8404 - val_loss: 0.6071 - val_binary_accuracy: 0.7270\n",
            "\n",
            "Epoch 00006: val_binary_accuracy did not improve from 0.74753\n",
            "Epoch 7/100\n",
            "158/158 [==============================] - 97s 612ms/step - loss: 0.3543 - binary_accuracy: 0.8536 - val_loss: 0.6048 - val_binary_accuracy: 0.7377\n",
            "\n",
            "Epoch 00007: val_binary_accuracy did not improve from 0.74753\n",
            "Epoch 8/100\n",
            "158/158 [==============================] - 97s 614ms/step - loss: 0.3592 - binary_accuracy: 0.8499 - val_loss: 0.6161 - val_binary_accuracy: 0.7484\n",
            "\n",
            "Epoch 00008: val_binary_accuracy improved from 0.74753 to 0.74836, saving model to drive/MyDrive/data/tmp/checkpoint_x.h5\n",
            "Epoch 9/100\n",
            "158/158 [==============================] - 97s 610ms/step - loss: 0.3427 - binary_accuracy: 0.8614 - val_loss: 0.6155 - val_binary_accuracy: 0.7336\n",
            "\n",
            "Epoch 00009: val_binary_accuracy did not improve from 0.74836\n",
            "Epoch 10/100\n",
            "158/158 [==============================] - 96s 610ms/step - loss: 0.3499 - binary_accuracy: 0.8552 - val_loss: 0.6239 - val_binary_accuracy: 0.7459\n",
            "\n",
            "Epoch 00010: val_binary_accuracy did not improve from 0.74836\n",
            "Epoch 11/100\n",
            "158/158 [==============================] - 97s 614ms/step - loss: 0.3492 - binary_accuracy: 0.8608 - val_loss: 0.6312 - val_binary_accuracy: 0.7336\n",
            "\n",
            "Epoch 00011: val_binary_accuracy did not improve from 0.74836\n",
            "Epoch 12/100\n",
            "158/158 [==============================] - 96s 609ms/step - loss: 0.3422 - binary_accuracy: 0.8621 - val_loss: 0.6102 - val_binary_accuracy: 0.7327\n",
            "\n",
            "Epoch 00012: val_binary_accuracy did not improve from 0.74836\n",
            "Epoch 13/100\n",
            "158/158 [==============================] - 96s 609ms/step - loss: 0.3339 - binary_accuracy: 0.8637 - val_loss: 0.6172 - val_binary_accuracy: 0.7434\n",
            "\n",
            "Epoch 00013: val_binary_accuracy did not improve from 0.74836\n",
            "Epoch 14/100\n",
            "158/158 [==============================] - 96s 609ms/step - loss: 0.3191 - binary_accuracy: 0.8645 - val_loss: 0.6717 - val_binary_accuracy: 0.7303\n",
            "\n",
            "Epoch 00014: val_binary_accuracy did not improve from 0.74836\n",
            "Epoch 15/100\n",
            "158/158 [==============================] - 97s 612ms/step - loss: 0.3190 - binary_accuracy: 0.8720 - val_loss: 0.7006 - val_binary_accuracy: 0.7467\n",
            "\n",
            "Epoch 00015: val_binary_accuracy did not improve from 0.74836\n",
            "Epoch 16/100\n",
            "158/158 [==============================] - 97s 613ms/step - loss: 0.3143 - binary_accuracy: 0.8750 - val_loss: 0.6440 - val_binary_accuracy: 0.7286\n",
            "\n",
            "Epoch 00016: val_binary_accuracy did not improve from 0.74836\n",
            "Epoch 17/100\n",
            "158/158 [==============================] - 97s 611ms/step - loss: 0.3180 - binary_accuracy: 0.8695 - val_loss: 0.6419 - val_binary_accuracy: 0.7451\n",
            "\n",
            "Epoch 00017: val_binary_accuracy did not improve from 0.74836\n",
            "Epoch 18/100\n",
            "158/158 [==============================] - 96s 609ms/step - loss: 0.2850 - binary_accuracy: 0.8869 - val_loss: 0.6894 - val_binary_accuracy: 0.7360\n",
            "\n",
            "Epoch 00018: val_binary_accuracy did not improve from 0.74836\n"
          ],
          "name": "stdout"
        }
      ]
    },
    {
      "cell_type": "code",
      "metadata": {
        "id": "pW5xkSCbJcCy"
      },
      "source": [
        "# 875s 346ms/step - loss: 0.5229 - binary_accuracy: 0.7594 - val_loss: 0.5029 - val_binary_accuracy: 0.7706\n",
        "# 97s 611ms/step - loss: 0.4464 - binary_accuracy: 0.8012 - val_loss: 0.5649 - val_binary_accuracy: 0.7508\n",
        "# 96s 608ms/step - loss: 0.4438 - binary_accuracy: 0.8202 - val_loss: 0.5663 - val_binary_accuracy: 0.7426"
      ],
      "execution_count": null,
      "outputs": []
    },
    {
      "cell_type": "code",
      "metadata": {
        "id": "9qOsCGhUXgYW"
      },
      "source": [
        ""
      ],
      "execution_count": null,
      "outputs": []
    }
  ]
}